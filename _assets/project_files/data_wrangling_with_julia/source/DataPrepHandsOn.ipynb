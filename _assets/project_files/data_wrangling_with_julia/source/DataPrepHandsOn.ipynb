{
 "cells": [
  {
   "cell_type": "markdown",
   "metadata": {
    "colab_type": "text",
    "id": "GRxxpStXHGs0"
   },
   "source": [
    " \n",
    "# Data Cleansing with Airbnb \n",
    "\n",
    "We're going to start by doing some exploratory data analysis & cleansing. The data we are working with is Airbnb rentals from SF. You can read more at [Inside Airbnb](http://insideairbnb.com/get-the-data.html)\n",
    "\n",
    "## In this notebook\n",
    "\n",
    " - Find the API Docs for the running version of Pandas\n",
    " - Work with messy CSV files\n",
    " - Impute missing values\n",
    " - Identify & remove outliers\n",
    " - Preprocessing Data\n",
    " \n",
    " \n"
   ]
  },
  {
   "cell_type": "markdown",
   "metadata": {
    "colab_type": "text",
    "id": "3-zFWl07HGs3"
   },
   "source": [
    "Let's take a look at what data we have here"
   ]
  },
  {
   "cell_type": "markdown",
   "metadata": {
    "colab_type": "text",
    "id": "8QGM2n83HGtG"
   },
   "source": [
    "\n",
    "How are we going to load those data? \n",
    "\n",
    "**Pandas**\n",
    "\n",
    "    A python package providing easy to use API with tools for structural data analysis. \n",
    " \n",
    "**DataFrame**\n",
    "\n",
    "* The most commonly used object in Pandas.\n",
    "* It is a 2D indexed data structures wtih columns in different data types.\n",
    "\n",
    "We are going to use Pandas DataFrame API for importing and analyzing data.\n",
    "\n",
    "Let's check the Docs first!\n",
    "\n",
    "* Check [Pandas](https://pandas.pydata.org/) version you installed, and find the API Docs package version \n",
    "\n",
    " \n"
   ]
  },
  {
   "cell_type": "code",
   "execution_count": 3,
   "metadata": {
    "colab": {},
    "colab_type": "code",
    "id": "SKnHI-5vHGtH"
   },
   "outputs": [],
   "source": [
    "import pandas as pd "
   ]
  },
  {
   "cell_type": "markdown",
   "metadata": {
    "colab_type": "text",
    "id": "JRBWCSM8HGtc"
   },
   "source": [
    "\n",
    "Let's load the data into a DataFrame  from the CSV file."
   ]
  },
  {
   "cell_type": "code",
   "execution_count": 7,
   "metadata": {
    "colab": {},
    "colab_type": "code",
    "id": "zJG1RJS8HGte"
   },
   "outputs": [],
   "source": [
    "filePath = 'airbnb.csv'\n",
    " \n",
    "df_airbnb = pd.read_csv(filePath)"
   ]
  },
  {
   "cell_type": "markdown",
   "metadata": {
    "colab_type": "text",
    "id": "17Yay5evHGt1"
   },
   "source": [
    "Let's take a look at the first few records "
   ]
  },
  {
   "cell_type": "code",
   "execution_count": 8,
   "metadata": {
    "colab": {
     "base_uri": "https://localhost:8080/",
     "height": 678
    },
    "colab_type": "code",
    "id": "UOGaMBmsHGt2",
    "outputId": "8507666d-3b85-4541-ceb4-b4ed12e584a1"
   },
   "outputs": [
    {
     "data": {
      "text/html": [
       "<div>\n",
       "<style scoped>\n",
       "    .dataframe tbody tr th:only-of-type {\n",
       "        vertical-align: middle;\n",
       "    }\n",
       "\n",
       "    .dataframe tbody tr th {\n",
       "        vertical-align: top;\n",
       "    }\n",
       "\n",
       "    .dataframe thead th {\n",
       "        text-align: right;\n",
       "    }\n",
       "</style>\n",
       "<table border=\"1\" class=\"dataframe\">\n",
       "  <thead>\n",
       "    <tr style=\"text-align: right;\">\n",
       "      <th></th>\n",
       "      <th>id</th>\n",
       "      <th>listing_url</th>\n",
       "      <th>scrape_id</th>\n",
       "      <th>last_scraped</th>\n",
       "      <th>name</th>\n",
       "      <th>summary</th>\n",
       "      <th>space</th>\n",
       "      <th>description</th>\n",
       "      <th>experiences_offered</th>\n",
       "      <th>neighborhood_overview</th>\n",
       "      <th>...</th>\n",
       "      <th>requires_license</th>\n",
       "      <th>license</th>\n",
       "      <th>jurisdiction_names</th>\n",
       "      <th>instant_bookable</th>\n",
       "      <th>is_business_travel_ready</th>\n",
       "      <th>cancellation_policy</th>\n",
       "      <th>require_guest_profile_picture</th>\n",
       "      <th>require_guest_phone_verification</th>\n",
       "      <th>calculated_host_listings_count</th>\n",
       "      <th>reviews_per_month</th>\n",
       "    </tr>\n",
       "  </thead>\n",
       "  <tbody>\n",
       "    <tr>\n",
       "      <th>0</th>\n",
       "      <td>958.0</td>\n",
       "      <td>https://www.airbnb.com/rooms/958</td>\n",
       "      <td>2.018120e+13</td>\n",
       "      <td>2018-12-06</td>\n",
       "      <td>Bright, Modern Garden Unit - 1BR/1B</td>\n",
       "      <td>Our bright garden unit overlooks a grassy back...</td>\n",
       "      <td>Newly remodeled, modern, and bright garden uni...</td>\n",
       "      <td>Our bright garden unit overlooks a grassy back...</td>\n",
       "      <td>none</td>\n",
       "      <td>*Quiet cul de sac in friendly neighborhood *St...</td>\n",
       "      <td>...</td>\n",
       "      <td>t</td>\n",
       "      <td>STR-0001256</td>\n",
       "      <td>{\"SAN FRANCISCO\"}</td>\n",
       "      <td>t</td>\n",
       "      <td>f</td>\n",
       "      <td>moderate</td>\n",
       "      <td>f</td>\n",
       "      <td>f</td>\n",
       "      <td>1.0</td>\n",
       "      <td>1.51</td>\n",
       "    </tr>\n",
       "    <tr>\n",
       "      <th>1</th>\n",
       "      <td>5858.0</td>\n",
       "      <td>https://www.airbnb.com/rooms/5858</td>\n",
       "      <td>2.018120e+13</td>\n",
       "      <td>2018-12-06</td>\n",
       "      <td>Creative Sanctuary</td>\n",
       "      <td>NaN</td>\n",
       "      <td>We live in a large Victorian house on a quiet ...</td>\n",
       "      <td>We live in a large Victorian house on a quiet ...</td>\n",
       "      <td>none</td>\n",
       "      <td>I love how our neighborhood feels quiet but is...</td>\n",
       "      <td>...</td>\n",
       "      <td>t</td>\n",
       "      <td>NaN</td>\n",
       "      <td>{\"SAN FRANCISCO\"}</td>\n",
       "      <td>f</td>\n",
       "      <td>f</td>\n",
       "      <td>strict_14_with_grace_period</td>\n",
       "      <td>f</td>\n",
       "      <td>f</td>\n",
       "      <td>1.0</td>\n",
       "      <td>0.96</td>\n",
       "    </tr>\n",
       "    <tr>\n",
       "      <th>2</th>\n",
       "      <td>7918.0</td>\n",
       "      <td>https://www.airbnb.com/rooms/7918</td>\n",
       "      <td>2.018120e+13</td>\n",
       "      <td>2018-12-06</td>\n",
       "      <td>A Friendly Room - UCSF/USF - San Francisco</td>\n",
       "      <td>Nice and good public transportation.  7 minute...</td>\n",
       "      <td>Room rental-sunny view room/sink/Wi Fi (inner ...</td>\n",
       "      <td>Nice and good public transportation.  7 minute...</td>\n",
       "      <td>none</td>\n",
       "      <td>Shopping old town, restaurants, McDonald, Whol...</td>\n",
       "      <td>...</td>\n",
       "      <td>t</td>\n",
       "      <td>NaN</td>\n",
       "      <td>{\"SAN FRANCISCO\"}</td>\n",
       "      <td>f</td>\n",
       "      <td>f</td>\n",
       "      <td>strict_14_with_grace_period</td>\n",
       "      <td>f</td>\n",
       "      <td>f</td>\n",
       "      <td>9.0</td>\n",
       "      <td>0.15</td>\n",
       "    </tr>\n",
       "    <tr>\n",
       "      <th>3</th>\n",
       "      <td>8142.0</td>\n",
       "      <td>https://www.airbnb.com/rooms/8142</td>\n",
       "      <td>2.018120e+13</td>\n",
       "      <td>2018-12-06</td>\n",
       "      <td>Friendly Room Apt. Style -UCSF/USF - San Franc...</td>\n",
       "      <td>Nice and good public transportation.  7 minute...</td>\n",
       "      <td>Room rental Sunny view Rm/Wi-Fi/TV/sink/large ...</td>\n",
       "      <td>Nice and good public transportation.  7 minute...</td>\n",
       "      <td>none</td>\n",
       "      <td>NaN</td>\n",
       "      <td>...</td>\n",
       "      <td>t</td>\n",
       "      <td>NaN</td>\n",
       "      <td>{\"SAN FRANCISCO\"}</td>\n",
       "      <td>f</td>\n",
       "      <td>f</td>\n",
       "      <td>strict_14_with_grace_period</td>\n",
       "      <td>f</td>\n",
       "      <td>f</td>\n",
       "      <td>9.0</td>\n",
       "      <td>0.15</td>\n",
       "    </tr>\n",
       "    <tr>\n",
       "      <th>4</th>\n",
       "      <td>8339.0</td>\n",
       "      <td>https://www.airbnb.com/rooms/8339</td>\n",
       "      <td>2.018120e+13</td>\n",
       "      <td>2018-12-06</td>\n",
       "      <td>Historic Alamo Square Victorian</td>\n",
       "      <td>Pls email before booking.  Interior featured i...</td>\n",
       "      <td>Please send us a quick message before booking ...</td>\n",
       "      <td>Pls email before booking.  Interior featured i...</td>\n",
       "      <td>none</td>\n",
       "      <td>NaN</td>\n",
       "      <td>...</td>\n",
       "      <td>t</td>\n",
       "      <td>STR-0000264</td>\n",
       "      <td>{\"SAN FRANCISCO\"}</td>\n",
       "      <td>f</td>\n",
       "      <td>f</td>\n",
       "      <td>strict_14_with_grace_period</td>\n",
       "      <td>t</td>\n",
       "      <td>t</td>\n",
       "      <td>2.0</td>\n",
       "      <td>0.24</td>\n",
       "    </tr>\n",
       "  </tbody>\n",
       "</table>\n",
       "<p>5 rows × 96 columns</p>\n",
       "</div>"
      ],
      "text/plain": [
       "       id                        listing_url     scrape_id last_scraped  \\\n",
       "0   958.0   https://www.airbnb.com/rooms/958  2.018120e+13   2018-12-06   \n",
       "1  5858.0  https://www.airbnb.com/rooms/5858  2.018120e+13   2018-12-06   \n",
       "2  7918.0  https://www.airbnb.com/rooms/7918  2.018120e+13   2018-12-06   \n",
       "3  8142.0  https://www.airbnb.com/rooms/8142  2.018120e+13   2018-12-06   \n",
       "4  8339.0  https://www.airbnb.com/rooms/8339  2.018120e+13   2018-12-06   \n",
       "\n",
       "                                                name  \\\n",
       "0                Bright, Modern Garden Unit - 1BR/1B   \n",
       "1                                 Creative Sanctuary   \n",
       "2         A Friendly Room - UCSF/USF - San Francisco   \n",
       "3  Friendly Room Apt. Style -UCSF/USF - San Franc...   \n",
       "4                    Historic Alamo Square Victorian   \n",
       "\n",
       "                                             summary  \\\n",
       "0  Our bright garden unit overlooks a grassy back...   \n",
       "1                                                NaN   \n",
       "2  Nice and good public transportation.  7 minute...   \n",
       "3  Nice and good public transportation.  7 minute...   \n",
       "4  Pls email before booking.  Interior featured i...   \n",
       "\n",
       "                                               space  \\\n",
       "0  Newly remodeled, modern, and bright garden uni...   \n",
       "1  We live in a large Victorian house on a quiet ...   \n",
       "2  Room rental-sunny view room/sink/Wi Fi (inner ...   \n",
       "3  Room rental Sunny view Rm/Wi-Fi/TV/sink/large ...   \n",
       "4  Please send us a quick message before booking ...   \n",
       "\n",
       "                                         description experiences_offered  \\\n",
       "0  Our bright garden unit overlooks a grassy back...                none   \n",
       "1  We live in a large Victorian house on a quiet ...                none   \n",
       "2  Nice and good public transportation.  7 minute...                none   \n",
       "3  Nice and good public transportation.  7 minute...                none   \n",
       "4  Pls email before booking.  Interior featured i...                none   \n",
       "\n",
       "                               neighborhood_overview  ... requires_license  \\\n",
       "0  *Quiet cul de sac in friendly neighborhood *St...  ...                t   \n",
       "1  I love how our neighborhood feels quiet but is...  ...                t   \n",
       "2  Shopping old town, restaurants, McDonald, Whol...  ...                t   \n",
       "3                                                NaN  ...                t   \n",
       "4                                                NaN  ...                t   \n",
       "\n",
       "       license jurisdiction_names instant_bookable is_business_travel_ready  \\\n",
       "0  STR-0001256  {\"SAN FRANCISCO\"}                t                        f   \n",
       "1          NaN  {\"SAN FRANCISCO\"}                f                        f   \n",
       "2          NaN  {\"SAN FRANCISCO\"}                f                        f   \n",
       "3          NaN  {\"SAN FRANCISCO\"}                f                        f   \n",
       "4  STR-0000264  {\"SAN FRANCISCO\"}                f                        f   \n",
       "\n",
       "           cancellation_policy  require_guest_profile_picture  \\\n",
       "0                     moderate                              f   \n",
       "1  strict_14_with_grace_period                              f   \n",
       "2  strict_14_with_grace_period                              f   \n",
       "3  strict_14_with_grace_period                              f   \n",
       "4  strict_14_with_grace_period                              t   \n",
       "\n",
       "  require_guest_phone_verification  calculated_host_listings_count  \\\n",
       "0                                f                             1.0   \n",
       "1                                f                             1.0   \n",
       "2                                f                             9.0   \n",
       "3                                f                             9.0   \n",
       "4                                t                             2.0   \n",
       "\n",
       "   reviews_per_month  \n",
       "0               1.51  \n",
       "1               0.96  \n",
       "2               0.15  \n",
       "3               0.15  \n",
       "4               0.24  \n",
       "\n",
       "[5 rows x 96 columns]"
      ]
     },
     "execution_count": 8,
     "metadata": {},
     "output_type": "execute_result"
    }
   ],
   "source": [
    "df_airbnb.head()"
   ]
  },
  {
   "cell_type": "markdown",
   "metadata": {
    "colab_type": "text",
    "id": "F2KN0GMiHGt_"
   },
   "source": [
    "How many records in this dataframe?How many columns in this dataframe?"
   ]
  },
  {
   "cell_type": "code",
   "execution_count": null,
   "metadata": {
    "colab": {
     "base_uri": "https://localhost:8080/",
     "height": 34
    },
    "colab_type": "code",
    "id": "elZNsvZpHGuB",
    "outputId": "0ad5482e-24a6-42b6-d75d-bcf6220e1b28"
   },
   "outputs": [],
   "source": [
    "rawDF.shape"
   ]
  },
  {
   "cell_type": "markdown",
   "metadata": {
    "colab_type": "text",
    "id": "218dym5aHGuI"
   },
   "source": [
    "What are those column names?"
   ]
  },
  {
   "cell_type": "code",
   "execution_count": null,
   "metadata": {
    "colab": {
     "base_uri": "https://localhost:8080/",
     "height": 510
    },
    "colab_type": "code",
    "id": "YwY1cCUGHGuK",
    "outputId": "492ee0ce-f6fb-4cd5-e429-6bb21c53087c"
   },
   "outputs": [],
   "source": [
    "rawDF.columns"
   ]
  },
  {
   "cell_type": "markdown",
   "metadata": {
    "colab_type": "text",
    "id": "knY-gXLJHGuR"
   },
   "source": [
    "What's the data schema of this dataframe, i.e. the data type for each column? "
   ]
  },
  {
   "cell_type": "code",
   "execution_count": null,
   "metadata": {
    "colab": {
     "base_uri": "https://localhost:8080/",
     "height": 1000
    },
    "colab_type": "code",
    "id": "gJlhoc4kHGuS",
    "outputId": "1cbdfcbd-45ef-4744-c5b9-f82c86e838e8"
   },
   "outputs": [],
   "source": [
    "rawDF.info()"
   ]
  },
  {
   "cell_type": "markdown",
   "metadata": {
    "colab_type": "text",
    "id": "sACI0-AvHGuZ"
   },
   "source": [
    "For the sake of simplicity, only keep certain columns from this dataset."
   ]
  },
  {
   "cell_type": "code",
   "execution_count": null,
   "metadata": {
    "colab": {},
    "colab_type": "code",
    "id": "imFVNwvnHGue"
   },
   "outputs": [],
   "source": [
    "columnsToKeep = [\n",
    "  'host_is_superhost',\n",
    "  'cancellation_policy',\n",
    "  'instant_bookable',\n",
    "  'host_total_listings_count',\n",
    "  'neighbourhood_cleansed',\n",
    "  'zipcode',\n",
    "  'latitude',\n",
    "  'longitude',\n",
    "  'property_type',\n",
    "  'room_type',\n",
    "  'accommodates',\n",
    "  'bathrooms',\n",
    "  'bedrooms',\n",
    "  'beds',\n",
    "  'bed_type',\n",
    "  'minimum_nights',\n",
    "  'number_of_reviews',\n",
    "  'review_scores_rating',\n",
    "  'review_scores_accuracy',\n",
    "  'review_scores_cleanliness',\n",
    "  'review_scores_checkin',\n",
    "  'review_scores_communication',\n",
    "  'review_scores_location',\n",
    "  'review_scores_value',\n",
    "  'price']\n",
    "\n",
    "baseDF = rawDF[columnsToKeep]\n",
    " \n",
    " "
   ]
  },
  {
   "cell_type": "code",
   "execution_count": null,
   "metadata": {
    "colab": {
     "base_uri": "https://localhost:8080/",
     "height": 309
    },
    "colab_type": "code",
    "id": "fomVGYdvHGul",
    "outputId": "7edc1635-3bb1-4690-b3b0-c1a39a3cef90"
   },
   "outputs": [],
   "source": [
    "#check the first few of records in baseDF\n",
    "baseDF.head()"
   ]
  },
  {
   "cell_type": "code",
   "execution_count": null,
   "metadata": {
    "colab": {
     "base_uri": "https://localhost:8080/",
     "height": 459
    },
    "colab_type": "code",
    "id": "5CKy52QoHGur",
    "outputId": "b14879fc-0534-4681-c2fa-76c31a0a3af5",
    "scrolled": true
   },
   "outputs": [],
   "source": [
    "#get schema and more info \n",
    "baseDF.dtypes"
   ]
  },
  {
   "cell_type": "markdown",
   "metadata": {
    "colab_type": "text",
    "id": "STShBimOHGuy"
   },
   "source": [
    "## Fixing Data Types\n",
    "\n",
    "Take a look at the schema above. You'll notice that the `price` field got picked up as object (string). For our task, we need it to be a numeric (float64 type) field.\n",
    "\n",
    "Let's fix that."
   ]
  },
  {
   "cell_type": "code",
   "execution_count": null,
   "metadata": {
    "colab": {
     "base_uri": "https://localhost:8080/",
     "height": 221
    },
    "colab_type": "code",
    "id": "JWqNudt-JAjb",
    "outputId": "4320af63-269f-49a0-a160-b765055a4d9b"
   },
   "outputs": [],
   "source": [
    "baseDF.price"
   ]
  },
  {
   "cell_type": "code",
   "execution_count": null,
   "metadata": {
    "colab": {
     "base_uri": "https://localhost:8080/",
     "height": 1000
    },
    "colab_type": "code",
    "id": "xk1tCqTAHGuz",
    "outputId": "6907a98c-3277-4677-f9d5-495fb02e4a81"
   },
   "outputs": [],
   "source": [
    "#.replace() in DataFrame can be used with regex option , check the usage\n",
    "help(baseDF.replace)"
   ]
  },
  {
   "cell_type": "code",
   "execution_count": null,
   "metadata": {
    "colab": {},
    "colab_type": "code",
    "id": "p3brPN60HGu7"
   },
   "outputs": [],
   "source": [
    "fixedPriceDF = baseDF.replace({'price': r'[\\$]'}, {'price': ''}, regex=True)"
   ]
  },
  {
   "cell_type": "code",
   "execution_count": null,
   "metadata": {
    "colab": {
     "base_uri": "https://localhost:8080/",
     "height": 119
    },
    "colab_type": "code",
    "id": "Ke6Ramw6HGvB",
    "outputId": "8c3b4d79-171a-4a50-ab53-dd26e5cdbe4b",
    "scrolled": true
   },
   "outputs": [],
   "source": [
    "#check if the values in price field has been fixed\n",
    "fixedPriceDF.price.head() "
   ]
  },
  {
   "cell_type": "code",
   "execution_count": null,
   "metadata": {
    "colab": {
     "base_uri": "https://localhost:8080/",
     "height": 459
    },
    "colab_type": "code",
    "id": "WhMagzqYHGvJ",
    "outputId": "423a022b-143c-4815-b417-d1babb7a6034",
    "scrolled": true
   },
   "outputs": [],
   "source": [
    "#check data types of fixedPriceDF\n",
    "fixedPriceDF.dtypes "
   ]
  },
  {
   "cell_type": "code",
   "execution_count": null,
   "metadata": {
    "colab": {
     "base_uri": "https://localhost:8080/",
     "height": 324
    },
    "colab_type": "code",
    "id": "isntW8aZHGvS",
    "outputId": "5944392e-b1ba-4b29-b8b2-1e45e831f4e4"
   },
   "outputs": [],
   "source": [
    "#fix data type of price using .astype()\n",
    "fixedPriceDF['price'] = fixedPriceDF['price'].astype('float64') "
   ]
  },
  {
   "cell_type": "markdown",
   "metadata": {
    "colab_type": "text",
    "id": "nirRdc3xHGvY"
   },
   "source": [
    "Oops! As the error message suggested, there is a value that has a \",\", let's fix that. "
   ]
  },
  {
   "cell_type": "code",
   "execution_count": null,
   "metadata": {
    "colab": {},
    "colab_type": "code",
    "id": "oXVRa1fiHGva"
   },
   "outputs": [],
   "source": [
    "#fix price values again\n",
    "fixedPriceDF = baseDF.replace({'price': r'[\\$,]'}, {'price': ''}, regex=True) "
   ]
  },
  {
   "cell_type": "code",
   "execution_count": null,
   "metadata": {
    "colab": {},
    "colab_type": "code",
    "id": "q9uIMQV9HGvg"
   },
   "outputs": [],
   "source": [
    "#then try fixing datatype of price  \n",
    "fixedPriceDF['price'] = fixedPriceDF['price'].astype('float64')  "
   ]
  },
  {
   "cell_type": "code",
   "execution_count": null,
   "metadata": {
    "colab": {
     "base_uri": "https://localhost:8080/",
     "height": 459
    },
    "colab_type": "code",
    "id": "Tuw-0sY_HGvm",
    "outputId": "97ad9889-e628-4b54-c0a3-9cd3f79c6b37"
   },
   "outputs": [],
   "source": [
    "#check data type\n",
    "fixedPriceDF.dtypes"
   ]
  },
  {
   "cell_type": "markdown",
   "metadata": {
    "colab_type": "text",
    "id": "xyI0EMs-HGvs"
   },
   "source": [
    "## Summary statistics\n",
    "\n",
    "Using .describe() in DataFrame to get summary statistics. "
   ]
  },
  {
   "cell_type": "code",
   "execution_count": null,
   "metadata": {
    "colab": {
     "base_uri": "https://localhost:8080/",
     "height": 1000
    },
    "colab_type": "code",
    "id": "Egt6h67_HGvt",
    "outputId": "6ab336fa-3db9-4def-fbac-882329dc9073"
   },
   "outputs": [],
   "source": [
    "#checking the usage of describe()\n",
    "\n",
    "help(fixedPriceDF.describe)"
   ]
  },
  {
   "cell_type": "code",
   "execution_count": null,
   "metadata": {
    "colab": {
     "base_uri": "https://localhost:8080/",
     "height": 297
    },
    "colab_type": "code",
    "id": "HTazLzsfHGvz",
    "outputId": "58ca0572-4a4d-45d8-f81a-9e4f671ff6ea"
   },
   "outputs": [],
   "source": [
    "#get the stats of some columns, e.g. host_is_superhost','host_total_listings_count','zipcode' using .describe()\n",
    "\n",
    "fixedPriceDF[['host_is_superhost','host_total_listings_count','zipcode']].describe() "
   ]
  },
  {
   "cell_type": "markdown",
   "metadata": {
    "colab_type": "text",
    "id": "qnA5tZsmHGv5"
   },
   "source": [
    "describe() only reports the summary of numerical columns by default, to get the stats of all columns you need: include='all'  "
   ]
  },
  {
   "cell_type": "code",
   "execution_count": null,
   "metadata": {
    "colab": {
     "base_uri": "https://localhost:8080/",
     "height": 427
    },
    "colab_type": "code",
    "id": "4b6ZQkvOHGv7",
    "outputId": "ff952ede-d533-454e-db84-631b47b2cce9",
    "scrolled": true
   },
   "outputs": [],
   "source": [
    "#get the stats of all columns\n",
    " \n",
    "fixedPriceDF.describe(include='all')"
   ]
  },
  {
   "cell_type": "markdown",
   "metadata": {
    "colab_type": "text",
    "id": "mQavj4AYHGwB"
   },
   "source": [
    "As you can see we have different count results for the different columns, that means we have null values records for some columns. \n",
    "\n",
    "## Nulls\n",
    "\n",
    "There are a lot of different ways to handle null values.  \n",
    "\n",
    "Some ways to handle nulls:\n",
    "* Drop any records that contain nulls\n",
    "* Numeric:\n",
    "  * Replace them with mean/median/zero/etc.\n",
    "* Categorical:\n",
    "  * Replace them with the mode, i.e. the most frequently observed data value\n",
    "  * Create a special category for null\n",
    " \n",
    "  "
   ]
  },
  {
   "cell_type": "markdown",
   "metadata": {
    "colab_type": "text",
    "id": "Ogr8SYnpHGwD"
   },
   "source": [
    "There are a few nulls in the categorical feature `zipcode`. Let's get rid of those rows where any of that column is null, so this is the simplest approach for the time being.\n",
    " "
   ]
  },
  {
   "cell_type": "code",
   "execution_count": null,
   "metadata": {
    "colab": {
     "base_uri": "https://localhost:8080/",
     "height": 1000
    },
    "colab_type": "code",
    "id": "ijG0eBf6HGwF",
    "outputId": "ff6dc105-a782-48f3-d4be-0fce02a8116f"
   },
   "outputs": [],
   "source": [
    "#.dropna() can be used, checking usage\n",
    "help(fixedPriceDF.dropna)"
   ]
  },
  {
   "cell_type": "code",
   "execution_count": null,
   "metadata": {
    "colab": {},
    "colab_type": "code",
    "id": "jqRWv-poHGwM",
    "scrolled": true
   },
   "outputs": [],
   "source": [
    "#drop rows that has null in `zipcode`\n",
    "noNullsDF=fixedPriceDF.dropna(subset=['zipcode'])"
   ]
  },
  {
   "cell_type": "code",
   "execution_count": null,
   "metadata": {
    "colab": {
     "base_uri": "https://localhost:8080/",
     "height": 317
    },
    "colab_type": "code",
    "id": "APKh6pKFHGwR",
    "outputId": "c69641f2-0b84-4a5d-f9ae-07ad0a6cf89f",
    "scrolled": true
   },
   "outputs": [],
   "source": [
    "#checking stats after dropna ..\n",
    "noNullsDF.describe()"
   ]
  },
  {
   "cell_type": "markdown",
   "metadata": {
    "colab_type": "text",
    "id": "x5Jd5I6xHGwc"
   },
   "source": [
    "Some rows are dropped, but still there are some columns with differnet numbers of records"
   ]
  },
  {
   "cell_type": "code",
   "execution_count": null,
   "metadata": {
    "colab": {
     "base_uri": "https://localhost:8080/",
     "height": 561
    },
    "colab_type": "code",
    "id": "mtJSM41cHGwd",
    "outputId": "a621c32a-4f50-4801-81a2-f767d41f1806"
   },
   "outputs": [],
   "source": [
    "#checking more info  ..\n",
    "noNullsDF.info() "
   ]
  },
  {
   "cell_type": "markdown",
   "metadata": {
    "colab_type": "text",
    "id": "5v4P_B3pHGwi"
   },
   "source": [
    "\n",
    "Now let's try imputation for numerical features. We want to fill the nulls in some numerical features with the median of that column. \n"
   ]
  },
  {
   "cell_type": "code",
   "execution_count": null,
   "metadata": {
    "colab": {},
    "colab_type": "code",
    "id": "Xt1rlFdHHGwl",
    "scrolled": true
   },
   "outputs": [],
   "source": [
    "imputeCols = [\n",
    "  \"bedrooms\",\n",
    "  \"bathrooms\",\n",
    "  \"beds\",\n",
    "  \"review_scores_rating\",\n",
    "  \"review_scores_accuracy\",\n",
    "  \"review_scores_cleanliness\",\n",
    "  \"review_scores_checkin\",\n",
    "  \"review_scores_communication\",\n",
    "  \"review_scores_location\",\n",
    "  \"review_scores_value\"\n",
    "]\n",
    " "
   ]
  },
  {
   "cell_type": "markdown",
   "metadata": {
    "colab_type": "text",
    "id": "63cLxwl-HGws"
   },
   "source": [
    "Fill any nulls in those columes with the median value of the colume where a null is located"
   ]
  },
  {
   "cell_type": "code",
   "execution_count": null,
   "metadata": {
    "colab": {},
    "colab_type": "code",
    "id": "21zSK0ooHGwt"
   },
   "outputs": [],
   "source": [
    "# .fillna() can be used, checking usage\n",
    "help(noNullsDF.fillna)"
   ]
  },
  {
   "cell_type": "code",
   "execution_count": null,
   "metadata": {
    "colab": {},
    "colab_type": "code",
    "id": "zH1f8GIkHGwy"
   },
   "outputs": [],
   "source": [
    "#call .fillna() with median of those selected columns \n",
    "imputedDF=noNullsDF.fillna(noNullsDF.median()[imputeCols])"
   ]
  },
  {
   "cell_type": "code",
   "execution_count": null,
   "metadata": {
    "colab": {
     "base_uri": "https://localhost:8080/",
     "height": 561
    },
    "colab_type": "code",
    "id": "ekcbJCx3HGw4",
    "outputId": "d4501bad-9c5e-49ff-e709-7e70fc81766c",
    "scrolled": true
   },
   "outputs": [],
   "source": [
    "#let's check info on imputedDF\n",
    "imputedDF.info()"
   ]
  },
  {
   "cell_type": "code",
   "execution_count": null,
   "metadata": {
    "colab": {},
    "colab_type": "code",
    "id": "pXHs7M1YHGw9"
   },
   "outputs": [],
   "source": [
    "#check the sumary stats on imputedDF\n",
    "imputedDF.describe(include='all')"
   ]
  },
  {
   "cell_type": "markdown",
   "metadata": {
    "colab_type": "text",
    "id": "jIg4zJVDHGxD"
   },
   "source": [
    "## Getting rid of extreme values\n",
    "\n",
    "Let's take a look at the *min* and *max* values of the `price` column:"
   ]
  },
  {
   "cell_type": "code",
   "execution_count": null,
   "metadata": {
    "colab": {
     "base_uri": "https://localhost:8080/",
     "height": 170
    },
    "colab_type": "code",
    "id": "BN6mjdO3HGxG",
    "outputId": "b92b4d51-42c7-450f-c5e4-6098ca83c6f8"
   },
   "outputs": [],
   "source": [
    "imputedDF['price'].describe()"
   ]
  },
  {
   "cell_type": "markdown",
   "metadata": {
    "colab_type": "text",
    "id": "Hu5zyzOvHGxO"
   },
   "source": [
    "There are some super-expensive listings. But that's the Data Scientist's job to decide what to do with them. We can certainly filter the \"free\" AirBNBs though.\n",
    "\n",
    "Let's see first how many listings we can find where the *price* is zero."
   ]
  },
  {
   "cell_type": "code",
   "execution_count": null,
   "metadata": {
    "colab": {},
    "colab_type": "code",
    "id": "pUzfyAkHHGxP"
   },
   "outputs": [],
   "source": [
    "#.query() can be used to get a dataframe with records that matchs a given condition, checking usage\n",
    "help(imputedDF.query)"
   ]
  },
  {
   "cell_type": "code",
   "execution_count": null,
   "metadata": {
    "colab": {
     "base_uri": "https://localhost:8080/",
     "height": 34
    },
    "colab_type": "code",
    "id": "Jsj6HkWaHGxV",
    "outputId": "87abe5c3-caef-4484-e610-62f479486e86"
   },
   "outputs": [],
   "source": [
    "#find number of listings that have price as zero \n",
    "imputedDF.query('price==0').price.count() "
   ]
  },
  {
   "cell_type": "markdown",
   "metadata": {
    "colab_type": "text",
    "id": "kkNjz1QsHGxf"
   },
   "source": [
    "Now only keep rows with a strictly positive *price*."
   ]
  },
  {
   "cell_type": "code",
   "execution_count": null,
   "metadata": {
    "colab": {},
    "colab_type": "code",
    "id": "QbKs08p7HGxg"
   },
   "outputs": [],
   "source": [
    "#we can still using .query() to get a dataframe that only have positive price\n",
    "posPricesDF = imputedDF.query('price > 0') "
   ]
  },
  {
   "cell_type": "code",
   "execution_count": null,
   "metadata": {
    "colab": {
     "base_uri": "https://localhost:8080/",
     "height": 317
    },
    "colab_type": "code",
    "id": "qEL2rHHLHGxl",
    "outputId": "2f68c1e7-239c-453e-c8b6-b5717bf4ca0e"
   },
   "outputs": [],
   "source": [
    "#check the stats of price in posPricesDF\n",
    "posPricesDF.describe()"
   ]
  },
  {
   "cell_type": "markdown",
   "metadata": {
    "colab_type": "text",
    "id": "-IHohSfMHGxu"
   },
   "source": [
    "Let's take a look at the *min* and *max* values of the *minimum_nights* column:"
   ]
  },
  {
   "cell_type": "code",
   "execution_count": null,
   "metadata": {
    "colab": {
     "base_uri": "https://localhost:8080/",
     "height": 297
    },
    "colab_type": "code",
    "id": "DURhau6FHGxw",
    "outputId": "33fa3116-d975-446f-b8cf-536e452acd8b",
    "scrolled": true
   },
   "outputs": [],
   "source": [
    "#checking stats of a single column 'minimum_nights'\n",
    "posPricesDF[['minimum_nights']].describe() "
   ]
  },
  {
   "cell_type": "markdown",
   "metadata": {
    "colab_type": "text",
    "id": "hK91qntmHGx2"
   },
   "source": [
    "Let's take a look the distribution of number of records based on `minimum_nights`"
   ]
  },
  {
   "cell_type": "code",
   "execution_count": null,
   "metadata": {
    "colab": {
     "base_uri": "https://localhost:8080/",
     "height": 867
    },
    "colab_type": "code",
    "id": "N7LVbjplHGx3",
    "outputId": "8be043ea-0ad9-48a8-b32f-032a0a497e36"
   },
   "outputs": [],
   "source": [
    "#ues .value_counts() on a column\n",
    "posPricesDF.minimum_nights.value_counts()"
   ]
  },
  {
   "cell_type": "markdown",
   "metadata": {
    "colab_type": "text",
    "id": "4dGJLAYhHGyB"
   },
   "source": [
    "A minimum stay of one year seems to be a reasonable limit here. Let's filter out those records where the *minimum_nights* is greater then 365:"
   ]
  },
  {
   "cell_type": "code",
   "execution_count": null,
   "metadata": {
    "colab": {},
    "colab_type": "code",
    "id": "mxSvLeI_HGyC"
   },
   "outputs": [],
   "source": [
    "#again, using .query()\n",
    "cleanDF =  posPricesDF.query('minimum_nights<=365')"
   ]
  },
  {
   "cell_type": "code",
   "execution_count": null,
   "metadata": {
    "colab": {
     "base_uri": "https://localhost:8080/",
     "height": 297
    },
    "colab_type": "code",
    "id": "JH52lb7cHGyJ",
    "outputId": "6ec20325-8f53-4ef8-c318-600b10c952a5"
   },
   "outputs": [],
   "source": [
    "#check the stats of minimum_nights in cleanDF\n",
    "cleanDF[['minimum_nights']].describe()"
   ]
  },
  {
   "cell_type": "code",
   "execution_count": null,
   "metadata": {
    "colab": {
     "base_uri": "https://localhost:8080/",
     "height": 427
    },
    "colab_type": "code",
    "id": "lGNJNXIVHGyS",
    "outputId": "271c41c0-cfcd-4501-b50a-9e81719f4a75"
   },
   "outputs": [],
   "source": [
    "cleanDF.describe(include='all')"
   ]
  },
  {
   "cell_type": "code",
   "execution_count": null,
   "metadata": {
    "colab": {
     "base_uri": "https://localhost:8080/",
     "height": 221
    },
    "colab_type": "code",
    "id": "FHk8S6ASm5l6",
    "outputId": "0694128e-bde9-4ff6-f844-c60d09a3d726"
   },
   "outputs": [],
   "source": [
    "cleanDF.price.value_counts()"
   ]
  },
  {
   "cell_type": "markdown",
   "metadata": {
    "colab_type": "text",
    "id": "F50qMcNNmnmu"
   },
   "source": [
    "Convert price to categorical by binining it "
   ]
  },
  {
   "cell_type": "code",
   "execution_count": null,
   "metadata": {
    "colab": {
     "base_uri": "https://localhost:8080/",
     "height": 187
    },
    "colab_type": "code",
    "id": "RhMaK0xjhVR2",
    "outputId": "98ec6057-74ac-4f33-e5cf-a6039c26fc9c"
   },
   "outputs": [],
   "source": [
    "\n",
    "labels = [\"Cheap\",\"Moderate\",\"Expensive\"]\n",
    "cleanDF['binned_price'] = pd.cut(cleanDF['price'], bins=3,  labels=labels)\n",
    "cleanDF.binned_price.value_counts()"
   ]
  },
  {
   "cell_type": "code",
   "execution_count": null,
   "metadata": {
    "colab": {
     "base_uri": "https://localhost:8080/",
     "height": 357
    },
    "colab_type": "code",
    "id": "AU5bbBzup6mp",
    "outputId": "54b2475d-fd60-41ca-981d-45bc81e7466d"
   },
   "outputs": [],
   "source": [
    "cleanDF.query('binned_price==\"Expensive\"')"
   ]
  },
  {
   "cell_type": "markdown",
   "metadata": {
    "colab_type": "text",
    "id": "KQJg9FmrmCY-"
   },
   "source": [
    "Convert room_type to numeric using one hot encoding"
   ]
  },
  {
   "cell_type": "code",
   "execution_count": null,
   "metadata": {
    "colab": {
     "base_uri": "https://localhost:8080/",
     "height": 85
    },
    "colab_type": "code",
    "id": "V-yGaf56kJmU",
    "outputId": "814e0bf1-e15b-463e-bc3e-13cec3d62371"
   },
   "outputs": [],
   "source": [
    "# List unqiue room types and their count\n",
    "cleanDF.room_type.value_counts()"
   ]
  },
  {
   "cell_type": "code",
   "execution_count": null,
   "metadata": {
    "colab": {
     "base_uri": "https://localhost:8080/",
     "height": 241
    },
    "colab_type": "code",
    "id": "H1NFYAhbjWc0",
    "outputId": "2be4441b-139f-4521-9df7-047748fd9270"
   },
   "outputs": [],
   "source": [
    "# Convert room_type to numeric using one hot encoding\n",
    "pd.get_dummies(cleanDF.room_type, prefix='room_type')\n",
    "\n",
    "# use pd.concat to join the new columns with your original dataframe\n",
    "cleanDF = pd.concat([cleanDF,pd.get_dummies(cleanDF['room_type'], prefix='room_type', drop_first=True)],axis=1)\n",
    "\n",
    "# now drop the original 'room_type' column (you don't need it anymore)\n",
    "cleanDF.drop(['room_type'],axis=1, inplace=True)\n",
    "\n",
    "cleanDF.head()"
   ]
  },
  {
   "cell_type": "markdown",
   "metadata": {
    "colab_type": "text",
    "id": "n0d3WEjCMxV9"
   },
   "source": []
  },
  {
   "cell_type": "markdown",
   "metadata": {
    "colab_type": "text",
    "id": "bCReHsn3HGyX"
   },
   "source": [
    "## Saving Cleaned Data back to Disk\n",
    "\n",
    "OK, our data is cleansed now. Let's save this DataFrame to a file so that we can start building models with it."
   ]
  },
  {
   "cell_type": "code",
   "execution_count": null,
   "metadata": {
    "colab": {},
    "colab_type": "code",
    "id": "u2H9P8RVHGyY"
   },
   "outputs": [],
   "source": [
    "outputPath = \"airbnb-cleaned.csv\"\n",
    "cleanDF.to_csv(outputPath)  "
   ]
  },
  {
   "cell_type": "code",
   "execution_count": null,
   "metadata": {
    "colab": {
     "base_uri": "https://localhost:8080/",
     "height": 34
    },
    "colab_type": "code",
    "id": "PRF4lBbZHGyg",
    "outputId": "095c747c-7ceb-4dac-9bf8-076f9750f493"
   },
   "outputs": [],
   "source": [
    "%ls"
   ]
  },
  {
   "cell_type": "markdown",
   "metadata": {
    "colab_type": "text",
    "id": "XFt-lmB8HGyn"
   },
   "source": [
    "Summary\n",
    "--\n",
    "What we have done in this notebook:\n",
    "\n",
    "* Fixed data type for the column 'price' \n",
    "    * using .replace() with regx to fix values\n",
    "    * using .astype() to fix data type\n",
    "* Got rid of null values\n",
    "    * using .dropna() to dropped rows where 'zipcode' is null\n",
    "    * using .fillna() to impute columns that have nulls with the median of that column\n",
    "* Identified & removed some outliers\n",
    "    * using .qu'price' as 0\n",
    "    * 'minimum_nights' greater than 365 days\n",
    "\n",
    "We have also learned:\n",
    "\n",
    "* Where to find the API docs \n",
    "* Checking dataframe attributes\n",
    "    * using .shape to check dataframe shape\n",
    "    * using .dtypes to check column data types\n",
    "    * using .columns to check clumn names\n",
    "* Using help() to get the usage info of a function/method  \n",
    "* Using .info() to check the schema of a dataframe  \n",
    "* Using describe() to get summary statistics of dataframe  \n",
    "  \n",
    "Now we have a cleaned dataset ready for trying some machine learning tasks.   \n",
    "\n",
    " "
   ]
  },
  {
   "cell_type": "code",
   "execution_count": null,
   "metadata": {},
   "outputs": [],
   "source": []
  }
 ],
 "metadata": {
  "colab": {
   "collapsed_sections": [
    "XFt-lmB8HGyn"
   ],
   "name": "p1_data_cleansing.ipynb",
   "provenance": []
  },
  "kernelspec": {
   "display_name": "Python 3",
   "language": "python",
   "name": "python3"
  },
  "language_info": {
   "codemirror_mode": {
    "name": "ipython",
    "version": 3
   },
   "file_extension": ".py",
   "mimetype": "text/x-python",
   "name": "python",
   "nbconvert_exporter": "python",
   "pygments_lexer": "ipython3",
   "version": "3.9.7"
  },
  "name": "01-Data-Cleansing",
  "notebookId": 12672
 },
 "nbformat": 4,
 "nbformat_minor": 1
}
